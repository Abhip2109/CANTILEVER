{
 "cells": [
  {
   "cell_type": "code",
   "execution_count": 1,
   "id": "cb89bec4-6532-49d3-baed-95006ea2cbec",
   "metadata": {},
   "outputs": [],
   "source": [
    "import os\n",
    "import json\n",
    "\n",
    "import numpy as np\n",
    "import pandas as pd\n",
    "from sklearn.model_selection import train_test_split\n",
    "from sklearn.linear_model import LogisticRegression\n",
    "from sklearn.metrics import accuracy_score"
   ]
  },
  {
   "cell_type": "code",
   "execution_count": 2,
   "id": "5e759b2f-078c-4023-aec1-ec9c894b59c7",
   "metadata": {},
   "outputs": [],
   "source": [
    "kaggle_dictionary = json.load(open(\"kaggle.json\"))"
   ]
  },
  {
   "cell_type": "code",
   "execution_count": 3,
   "id": "27e1cf0b-049e-4d74-9865-7423bd8d506e",
   "metadata": {},
   "outputs": [
    {
     "data": {
      "text/plain": [
       "dict_keys(['username', 'key'])"
      ]
     },
     "execution_count": 3,
     "metadata": {},
     "output_type": "execute_result"
    }
   ],
   "source": [
    "kaggle_dictionary.keys()"
   ]
  },
  {
   "cell_type": "code",
   "execution_count": 4,
   "id": "cfd6445b-1682-49ce-b0c7-28dfa2ac8dcb",
   "metadata": {},
   "outputs": [],
   "source": [
    "# setup kaggle credentials as environment variables\n",
    "os.environ[\"KAGGLE_USERNAME\"] = kaggle_dictionary[\"username\"]\n",
    "os.environ[\"KAGGLE_KEY\"] = kaggle_dictionary[\"key\"]"
   ]
  },
  {
   "cell_type": "code",
   "execution_count": 5,
   "id": "9b615e1a-d521-453d-9a55-2ccf997f2e04",
   "metadata": {},
   "outputs": [
    {
     "name": "stdout",
     "output_type": "stream",
     "text": [
      "Dataset URL: https://www.kaggle.com/datasets/mlg-ulb/creditcardfraud\n",
      "License(s): DbCL-1.0\n",
      "Downloading creditcardfraud.zip to C:\\Users\\ABHINAV PANDEY\n",
      "\n"
     ]
    },
    {
     "name": "stderr",
     "output_type": "stream",
     "text": [
      "\n",
      "  0%|          | 0.00/66.0M [00:00<?, ?B/s]\n",
      "  2%|1         | 1.00M/66.0M [00:01<01:42, 666kB/s]\n",
      "  3%|3         | 2.00M/66.0M [00:01<00:50, 1.33MB/s]\n",
      "  5%|4         | 3.00M/66.0M [00:02<00:33, 1.98MB/s]\n",
      "  6%|6         | 4.00M/66.0M [00:02<00:26, 2.46MB/s]\n",
      "  8%|7         | 5.00M/66.0M [00:02<00:25, 2.55MB/s]\n",
      "  9%|9         | 6.00M/66.0M [00:03<00:23, 2.69MB/s]\n",
      " 11%|#         | 7.00M/66.0M [00:03<00:20, 2.98MB/s]\n",
      " 12%|#2        | 8.00M/66.0M [00:03<00:18, 3.22MB/s]\n",
      " 14%|#3        | 9.00M/66.0M [00:03<00:17, 3.38MB/s]\n",
      " 15%|#5        | 10.0M/66.0M [00:04<00:16, 3.52MB/s]\n",
      " 17%|#6        | 11.0M/66.0M [00:04<00:15, 3.62MB/s]\n",
      " 18%|#8        | 12.0M/66.0M [00:04<00:15, 3.68MB/s]\n",
      " 20%|#9        | 13.0M/66.0M [00:04<00:14, 3.73MB/s]\n",
      " 21%|##1       | 14.0M/66.0M [00:05<00:14, 3.76MB/s]\n",
      " 23%|##2       | 15.0M/66.0M [00:05<00:14, 3.79MB/s]\n",
      " 24%|##4       | 16.0M/66.0M [00:05<00:13, 3.79MB/s]\n",
      " 26%|##5       | 17.0M/66.0M [00:06<00:13, 3.82MB/s]\n",
      " 27%|##7       | 18.0M/66.0M [00:06<00:14, 3.39MB/s]\n",
      " 29%|##8       | 19.0M/66.0M [00:06<00:12, 3.85MB/s]\n",
      " 30%|###       | 20.0M/66.0M [00:06<00:12, 3.90MB/s]\n",
      " 32%|###1      | 21.0M/66.0M [00:07<00:12, 3.89MB/s]\n",
      " 33%|###3      | 22.0M/66.0M [00:07<00:12, 3.60MB/s]\n",
      " 35%|###4      | 23.0M/66.0M [00:07<00:12, 3.75MB/s]\n",
      " 36%|###6      | 24.0M/66.0M [00:08<00:11, 3.77MB/s]\n",
      " 38%|###7      | 25.0M/66.0M [00:08<00:11, 3.81MB/s]\n",
      " 39%|###9      | 26.0M/66.0M [00:08<00:10, 3.81MB/s]\n",
      " 41%|####      | 27.0M/66.0M [00:08<00:10, 3.83MB/s]\n",
      " 42%|####2     | 28.0M/66.0M [00:09<00:10, 3.84MB/s]\n",
      " 44%|####3     | 29.0M/66.0M [00:09<00:10, 3.83MB/s]\n",
      " 45%|####5     | 30.0M/66.0M [00:09<00:09, 3.84MB/s]\n",
      " 47%|####7     | 31.0M/66.0M [00:09<00:09, 3.84MB/s]\n",
      " 49%|####8     | 32.0M/66.0M [00:10<00:09, 3.85MB/s]\n",
      " 50%|#####     | 33.0M/66.0M [00:10<00:08, 3.85MB/s]\n",
      " 52%|#####1    | 34.0M/66.0M [00:10<00:08, 3.84MB/s]\n",
      " 53%|#####3    | 35.0M/66.0M [00:11<00:08, 3.85MB/s]\n",
      " 55%|#####4    | 36.0M/66.0M [00:11<00:08, 3.82MB/s]\n",
      " 56%|#####6    | 37.0M/66.0M [00:11<00:08, 3.48MB/s]\n",
      " 58%|#####7    | 38.0M/66.0M [00:11<00:07, 3.79MB/s]\n",
      " 59%|#####9    | 39.0M/66.0M [00:12<00:07, 3.86MB/s]\n",
      " 61%|######    | 40.0M/66.0M [00:12<00:06, 3.90MB/s]\n",
      " 62%|######2   | 41.0M/66.0M [00:12<00:06, 3.89MB/s]\n",
      " 64%|######3   | 42.0M/66.0M [00:12<00:06, 3.87MB/s]\n",
      " 65%|######5   | 43.0M/66.0M [00:13<00:06, 3.87MB/s]\n",
      " 67%|######6   | 44.0M/66.0M [00:13<00:06, 3.82MB/s]\n",
      " 68%|######8   | 45.0M/66.0M [00:13<00:05, 3.87MB/s]\n",
      " 70%|######9   | 46.0M/66.0M [00:14<00:05, 3.87MB/s]\n",
      " 71%|#######1  | 47.0M/66.0M [00:14<00:05, 3.86MB/s]\n",
      " 73%|#######2  | 48.0M/66.0M [00:14<00:04, 3.86MB/s]\n",
      " 74%|#######4  | 49.0M/66.0M [00:14<00:04, 3.83MB/s]\n",
      " 76%|#######5  | 50.0M/66.0M [00:15<00:04, 3.82MB/s]\n",
      " 77%|#######7  | 51.0M/66.0M [00:15<00:04, 3.80MB/s]\n",
      " 79%|#######8  | 52.0M/66.0M [00:15<00:03, 3.83MB/s]\n",
      " 80%|########  | 53.0M/66.0M [00:15<00:03, 3.84MB/s]\n",
      " 82%|########1 | 54.0M/66.0M [00:16<00:03, 3.83MB/s]\n",
      " 83%|########3 | 55.0M/66.0M [00:16<00:02, 3.84MB/s]\n",
      " 85%|########4 | 56.0M/66.0M [00:16<00:02, 3.84MB/s]\n",
      " 86%|########6 | 57.0M/66.0M [00:17<00:02, 3.85MB/s]\n",
      " 88%|########7 | 58.0M/66.0M [00:17<00:02, 3.85MB/s]\n",
      " 89%|########9 | 59.0M/66.0M [00:17<00:01, 3.85MB/s]\n",
      " 91%|######### | 60.0M/66.0M [00:17<00:01, 3.84MB/s]\n",
      " 92%|#########2| 61.0M/66.0M [00:18<00:01, 3.85MB/s]\n",
      " 94%|#########4| 62.0M/66.0M [00:18<00:01, 3.78MB/s]\n",
      " 96%|#########5| 63.0M/66.0M [00:18<00:00, 3.45MB/s]\n",
      " 97%|#########7| 64.0M/66.0M [00:18<00:00, 3.94MB/s]\n",
      " 99%|#########8| 65.0M/66.0M [00:19<00:00, 3.91MB/s]\n",
      "100%|##########| 66.0M/66.0M [00:19<00:00, 3.91MB/s]\n",
      "100%|##########| 66.0M/66.0M [00:19<00:00, 3.55MB/s]\n"
     ]
    }
   ],
   "source": [
    "!kaggle datasets download -d mlg-ulb/creditcardfraud"
   ]
  },
  {
   "cell_type": "code",
   "execution_count": 6,
   "id": "ae951391-e3f5-4fbb-9e1c-de0019f92c46",
   "metadata": {},
   "outputs": [
    {
     "ename": "NameError",
     "evalue": "name 'ZipFile' is not defined",
     "output_type": "error",
     "traceback": [
      "\u001b[1;31m---------------------------------------------------------------------------\u001b[0m",
      "\u001b[1;31mNameError\u001b[0m                                 Traceback (most recent call last)",
      "Cell \u001b[1;32mIn[6], line 2\u001b[0m\n\u001b[0;32m      1\u001b[0m \u001b[38;5;66;03m# unzip the dataset file\u001b[39;00m\n\u001b[1;32m----> 2\u001b[0m \u001b[38;5;28;01mwith\u001b[39;00m ZipFile(\u001b[38;5;124m\"\u001b[39m\u001b[38;5;124mcreditcardfraud.zip\u001b[39m\u001b[38;5;124m\"\u001b[39m, \u001b[38;5;124m\"\u001b[39m\u001b[38;5;124mr\u001b[39m\u001b[38;5;124m\"\u001b[39m) \u001b[38;5;28;01mas\u001b[39;00m zip_ref:\n\u001b[0;32m      3\u001b[0m   zip_ref\u001b[38;5;241m.\u001b[39mextractall()\n",
      "\u001b[1;31mNameError\u001b[0m: name 'ZipFile' is not defined"
     ]
    }
   ],
   "source": [
    "# unzip the dataset file\n",
    "with ZipFile(\"creditcardfraud.zip\", \"r\") as zip_ref:\n",
    "  zip_ref.extractall()"
   ]
  },
  {
   "cell_type": "code",
   "execution_count": null,
   "id": "9957322c-5645-4317-a921-93e5199ef877",
   "metadata": {},
   "outputs": [],
   "source": [
    "data=pd.read_csv('creditcard.csv')"
   ]
  },
  {
   "cell_type": "code",
   "execution_count": null,
   "id": "023722a7-5add-4326-994a-66dc2f809f8a",
   "metadata": {},
   "outputs": [],
   "source": [
    "data.head()"
   ]
  },
  {
   "cell_type": "code",
   "execution_count": null,
   "id": "08f172eb-6826-4291-886e-06b51474dd7a",
   "metadata": {},
   "outputs": [],
   "source": [
    "data.tail()"
   ]
  },
  {
   "cell_type": "code",
   "execution_count": null,
   "id": "0e374c93-5bcf-421b-ba2b-2b3b684215b7",
   "metadata": {},
   "outputs": [],
   "source": [
    "# dataset informations\n",
    "data.info()"
   ]
  },
  {
   "cell_type": "code",
   "execution_count": null,
   "id": "7edb9922-d3ab-4f61-8eff-89f23fb0294e",
   "metadata": {},
   "outputs": [],
   "source": [
    "# checking the number of missing values in each column\n",
    "data.isnull().sum()"
   ]
  },
  {
   "cell_type": "code",
   "execution_count": null,
   "id": "7ea03f00-4e70-4d87-85b1-48926906f988",
   "metadata": {},
   "outputs": [],
   "source": [
    "# distribution of legit transactions & fraudulent transactions\n",
    "data['Class'].value_counts()"
   ]
  },
  {
   "cell_type": "markdown",
   "id": "36853882-a097-453d-b66c-228462fa672e",
   "metadata": {},
   "source": [
    "This Dataset is highly unblanced\r\n",
    "\r\n",
    "0 --> Normal Transaction\r\n",
    "\r\n",
    "1 --> fraudulent transaction"
   ]
  },
  {
   "cell_type": "code",
   "execution_count": null,
   "id": "b9465518-8e92-4565-a268-82742ed1a70a",
   "metadata": {},
   "outputs": [],
   "source": [
    "# separating the data for analysis\n",
    "legit = data[data.Class == 0]\n",
    "fraud = data[data.Class == 1]"
   ]
  },
  {
   "cell_type": "code",
   "execution_count": null,
   "id": "4bef4213-9a74-4b2f-81ab-d76de558d0db",
   "metadata": {},
   "outputs": [],
   "source": [
    "print(legit.shape)\n",
    "print(fraud.shape)"
   ]
  },
  {
   "cell_type": "code",
   "execution_count": null,
   "id": "8db0678e-ff22-428f-8d06-f4f64e8363c6",
   "metadata": {},
   "outputs": [],
   "source": [
    "# statistical measures of the data\n",
    "legit.Amount.describe()"
   ]
  },
  {
   "cell_type": "code",
   "execution_count": null,
   "id": "355b313f-f189-42c3-a1ff-255af0146d17",
   "metadata": {},
   "outputs": [],
   "source": [
    "fraud.Amount.describe()"
   ]
  },
  {
   "cell_type": "code",
   "execution_count": null,
   "id": "01fda815-70d7-4b35-8b5f-ce0894f2bc94",
   "metadata": {},
   "outputs": [],
   "source": [
    "# compare the values for both transactions\n",
    "data.groupby('Class').mean()"
   ]
  },
  {
   "cell_type": "markdown",
   "id": "828dad47-5141-41d3-8daf-d0aac96f98c4",
   "metadata": {},
   "source": [
    "Under-Sampling\r\n",
    "\r\n",
    "Build a sample dataset containing similar distribution of normal transactions and Fraudulent Transactions\r\n",
    "\r\n",
    "Number of Fraudulent Transactions --> 492"
   ]
  },
  {
   "cell_type": "code",
   "execution_count": null,
   "id": "79029852-49a4-4cfa-8a61-59bcf31011dc",
   "metadata": {},
   "outputs": [],
   "source": [
    "legit_sample = legit.sample(n=492)"
   ]
  },
  {
   "cell_type": "markdown",
   "id": "858e6c19-7b27-4e9c-a13e-830b0fb67f15",
   "metadata": {},
   "source": [
    "Concatenating two DataFrames\r\n"
   ]
  },
  {
   "cell_type": "code",
   "execution_count": null,
   "id": "513e3e1f-fa04-416f-8cf8-3445b026d163",
   "metadata": {},
   "outputs": [],
   "source": [
    "new_dataset = pd.concat([legit_sample, fraud], axis=0)"
   ]
  },
  {
   "cell_type": "code",
   "execution_count": null,
   "id": "15f1164a-d502-4de8-b026-56c72e754c49",
   "metadata": {},
   "outputs": [],
   "source": [
    "new_dataset.head()"
   ]
  },
  {
   "cell_type": "code",
   "execution_count": null,
   "id": "ed969a82-44ac-4fe2-91a9-b6cd0c562b7d",
   "metadata": {},
   "outputs": [],
   "source": [
    "new_dataset.tail()"
   ]
  },
  {
   "cell_type": "code",
   "execution_count": null,
   "id": "7cca9048-8616-4da3-95f3-d893687ca599",
   "metadata": {},
   "outputs": [],
   "source": [
    "new_dataset['Class'].value_counts()"
   ]
  },
  {
   "cell_type": "code",
   "execution_count": null,
   "id": "883a0d65-929e-4d63-91d4-3d77eda74b05",
   "metadata": {},
   "outputs": [],
   "source": [
    "new_dataset.groupby('Class').mean()"
   ]
  },
  {
   "cell_type": "markdown",
   "id": "1f472b19-8b38-40b5-82a3-62483a455ba6",
   "metadata": {},
   "source": [
    "Splitting the data into Features & Targets"
   ]
  },
  {
   "cell_type": "code",
   "execution_count": null,
   "id": "df319a70-473f-4cee-9724-4e2643277390",
   "metadata": {},
   "outputs": [],
   "source": [
    "X = new_dataset.drop(columns='Class', axis=1)\n",
    "Y = new_dataset['Class']"
   ]
  },
  {
   "cell_type": "code",
   "execution_count": null,
   "id": "fa10f7b4-a31a-484e-a0ca-9e3c04547423",
   "metadata": {},
   "outputs": [],
   "source": [
    "print(X)"
   ]
  },
  {
   "cell_type": "code",
   "execution_count": null,
   "id": "7f9ad149-aa14-45f1-ad7f-65e33ce541fc",
   "metadata": {},
   "outputs": [],
   "source": [
    "print(Y)"
   ]
  },
  {
   "cell_type": "markdown",
   "id": "5d3f169e-7f67-43cb-a353-764b56c191ca",
   "metadata": {},
   "source": [
    "Split the data into Training data & Testing Data"
   ]
  },
  {
   "cell_type": "code",
   "execution_count": null,
   "id": "89c11dfb-12d4-4a7b-b576-6b56e9008c49",
   "metadata": {},
   "outputs": [],
   "source": [
    "X_train, X_test, Y_train, Y_test = train_test_split(X, Y, test_size=0.2, stratify=Y, random_state=2)"
   ]
  },
  {
   "cell_type": "code",
   "execution_count": null,
   "id": "39db842e-39d8-475b-a059-16361e1868b6",
   "metadata": {},
   "outputs": [],
   "source": [
    "print(X.shape, X_train.shape, X_test.shape)"
   ]
  },
  {
   "cell_type": "markdown",
   "id": "1a4e6bba-afe7-4344-851d-48ac548c018b",
   "metadata": {},
   "source": [
    "# Model Training"
   ]
  },
  {
   "cell_type": "markdown",
   "id": "572a84fc-b1b4-4dab-9bf5-05c36e9ff7b4",
   "metadata": {},
   "source": [
    "## Logistic Regression"
   ]
  },
  {
   "cell_type": "code",
   "execution_count": null,
   "id": "e7027f1e-ab14-4998-88aa-1c5a2ead77bd",
   "metadata": {},
   "outputs": [],
   "source": [
    "model = LogisticRegression()"
   ]
  },
  {
   "cell_type": "code",
   "execution_count": null,
   "id": "5b576205-9ada-48c8-aa54-3d1b8f49687b",
   "metadata": {},
   "outputs": [],
   "source": [
    "# training the Logistic Regression Model with Training Data\n",
    "model.fit(X_train, Y_train)"
   ]
  },
  {
   "cell_type": "markdown",
   "id": "10c08e40-8866-4b02-a03d-454616ed1352",
   "metadata": {},
   "source": [
    "# Model Evaluation"
   ]
  },
  {
   "cell_type": "markdown",
   "id": "12460b5a-2938-4d5f-9e3c-aa305f8c033a",
   "metadata": {},
   "source": [
    "Accuracy Score"
   ]
  },
  {
   "cell_type": "code",
   "execution_count": null,
   "id": "089479dc-bfdc-4c8e-940b-9cebfc174fd0",
   "metadata": {},
   "outputs": [],
   "source": [
    "# accuracy on training data\n",
    "X_train_prediction = model.predict(X_train)\n",
    "training_data_accuracy = accuracy_score(X_train_prediction, Y_train)"
   ]
  },
  {
   "cell_type": "code",
   "execution_count": null,
   "id": "ee68d6fe-557e-46a9-ae1e-049702f4ee98",
   "metadata": {},
   "outputs": [],
   "source": [
    "print('Accuracy on Training data : ', training_data_accuracy)"
   ]
  },
  {
   "cell_type": "code",
   "execution_count": null,
   "id": "cfc12b99-c80b-4746-97d1-57e335bab6ac",
   "metadata": {},
   "outputs": [],
   "source": [
    "# accuracy on test data\n",
    "X_test_prediction = model.predict(X_test)\n",
    "test_data_accuracy = accuracy_score(X_test_prediction, Y_test)"
   ]
  },
  {
   "cell_type": "code",
   "execution_count": null,
   "id": "c8b44db5-6e2b-4e35-85cc-962ebb46c936",
   "metadata": {},
   "outputs": [],
   "source": [
    "print('Accuracy score on Test Data : ', test_data_accuracy)"
   ]
  }
 ],
 "metadata": {
  "kernelspec": {
   "display_name": "Python 3 (ipykernel)",
   "language": "python",
   "name": "python3"
  },
  "language_info": {
   "codemirror_mode": {
    "name": "ipython",
    "version": 3
   },
   "file_extension": ".py",
   "mimetype": "text/x-python",
   "name": "python",
   "nbconvert_exporter": "python",
   "pygments_lexer": "ipython3",
   "version": "3.11.5"
  }
 },
 "nbformat": 4,
 "nbformat_minor": 5
}
